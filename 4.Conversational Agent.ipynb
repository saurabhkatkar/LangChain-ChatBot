{
 "cells": [
  {
   "cell_type": "code",
   "execution_count": 12,
   "id": "d8e07cf2-8db6-473d-bcd4-be53e344301b",
   "metadata": {},
   "outputs": [
    {
     "data": {
      "text/plain": [
       "True"
      ]
     },
     "execution_count": 12,
     "metadata": {},
     "output_type": "execute_result"
    }
   ],
   "source": [
    "from langchain.chat_models import ChatOpenAI\n",
    "from langchain.chains.conversation.memory import ConversationBufferWindowMemory\n",
    "from langchain.chains import RetrievalQA\n",
    "import os\n",
    "import pinecone\n",
    "from dotenv import load_dotenv\n",
    "\n",
    "load_dotenv()"
   ]
  },
  {
   "cell_type": "code",
   "execution_count": 15,
   "id": "e795831e-d2e3-45ee-a83d-641b9281cc93",
   "metadata": {},
   "outputs": [],
   "source": [
    "from langchain.vectorstores import Pinecone\n",
    "from langchain.embeddings import HuggingFaceEmbeddings\n",
    "hf_embeddings = HuggingFaceEmbeddings()\n",
    "\n",
    "index_name = 'langchain-retrieval-agent-sample'\n",
    "\n",
    "# Load Pinecone API key\n",
    "api_key = os.getenv('PINECONE_API_KEY') or 'YOUR_API_KEY'\n",
    "# Set Pinecone environment. Find next to API key in console\n",
    "env = os.getenv('PINECONE_ENVIRONMENT') or \"YOUR_ENV\"\n",
    "\n",
    "pinecone.init(api_key=api_key, environment=env)\n",
    "\n",
    "text_field = \"text\"\n",
    "\n",
    "# switch back to normal index for langchain\n",
    "index = pinecone.Index(index_name)\n",
    "\n",
    "vectorstore = Pinecone(\n",
    "    index, hf_embeddings.embed_query, text_field\n",
    ")"
   ]
  },
  {
   "cell_type": "code",
   "execution_count": 22,
   "id": "3cea846e-3c59-4ddb-b0ef-d8ca65042b19",
   "metadata": {},
   "outputs": [
    {
     "name": "stderr",
     "output_type": "stream",
     "text": [
      "WARNING! deployment_id is not default parameter.\n",
      "                    deployment_id was transferred to model_kwargs.\n",
      "                    Please confirm that deployment_id is what you intended.\n"
     ]
    }
   ],
   "source": [
    "deployment_name = os.getenv('AZURE_DEPLOYMENT_NAME')\n",
    "\n",
    "# chat completion llm\n",
    "llm = ChatOpenAI(\n",
    "    model_name='gpt-3.5-turbo',\n",
    "    temperature=0.0,\n",
    "    deployment_id = deployment_name\n",
    ")\n",
    "# conversational memory\n",
    "conversational_memory = ConversationBufferWindowMemory(\n",
    "    memory_key='chat_history',\n",
    "    k=5,\n",
    "    return_messages=True\n",
    ")\n",
    "# retrieval qa chain\n",
    "qa = RetrievalQA.from_chain_type(\n",
    "    llm=llm,\n",
    "    chain_type=\"stuff\",\n",
    "    retriever=vectorstore.as_retriever()\n",
    ")"
   ]
  },
  {
   "cell_type": "code",
   "execution_count": 23,
   "id": "c1d64775-55fd-42a4-9587-553e40b6047d",
   "metadata": {},
   "outputs": [
    {
     "data": {
      "text/plain": [
       "\"Customers who want to get an exemption from abuse monitoring and human review can apply to modify the Azure OpenAI content management features by completing a form and meeting additional Limited Access eligibility criteria and attest to specific use cases. If Microsoft approves a customer's request to modify abuse monitoring, then Microsoft does not store any prompts and completions associated with the approved Azure subscription for which abuse monitoring is configured off.\""
      ]
     },
     "execution_count": 23,
     "metadata": {},
     "output_type": "execute_result"
    }
   ],
   "source": [
    "query = \"How can customers get an exemption from abuse monitoring and human review\"\n",
    "\n",
    "qa.run(query)"
   ]
  },
  {
   "cell_type": "code",
   "execution_count": 24,
   "id": "08156fa5-a368-4f8d-8754-a6840dd1162c",
   "metadata": {},
   "outputs": [],
   "source": [
    "from langchain.agents import Tool\n",
    "\n",
    "tools = [\n",
    "    Tool(\n",
    "        name='Knowledge Base',\n",
    "        func=qa.run,\n",
    "        description=(\n",
    "            'use this tool when answering queries about azure openai documentation to get '\n",
    "            'more information about the topic'\n",
    "        )\n",
    "    )\n",
    "]"
   ]
  },
  {
   "cell_type": "code",
   "execution_count": 26,
   "id": "113a189b-5f74-4778-9b20-478a5cfd6c49",
   "metadata": {},
   "outputs": [],
   "source": [
    "from langchain.agents import initialize_agent\n",
    "\n",
    "agent = initialize_agent(\n",
    "    agent='chat-conversational-react-description',\n",
    "    tools=tools,\n",
    "    llm=llm,\n",
    "    verbose=True,\n",
    "    max_iterations=3,\n",
    "    early_stopping_method='generate',\n",
    "    memory=conversational_memory\n",
    ")"
   ]
  },
  {
   "cell_type": "code",
   "execution_count": 27,
   "id": "a8f02c5f-a60d-417d-bac6-761566523391",
   "metadata": {},
   "outputs": [
    {
     "name": "stdout",
     "output_type": "stream",
     "text": [
      "\n",
      "\n",
      "\u001b[1m> Entering new  chain...\u001b[0m\n",
      "\u001b[32;1m\u001b[1;3m{\n",
      "    \"action\": \"Knowledge Base\",\n",
      "    \"action_input\": \"How can customers get an exemption from abuse monitoring and human review\"\n",
      "}\u001b[0m\n",
      "Observation: \u001b[36;1m\u001b[1;3mCustomers who want to get an exemption from abuse monitoring and human review can apply to modify the Azure OpenAI content management features by completing a form and meeting additional Limited Access eligibility criteria and attest to specific use cases. If Microsoft approves a customer's request to modify abuse monitoring, then Microsoft does not store any prompts and completions associated with the approved Azure subscription for which abuse monitoring is configured off.\u001b[0m\n",
      "Thought:\u001b[32;1m\u001b[1;3m{\n",
      "    \"action\": \"Final Answer\",\n",
      "    \"action_input\": \"Customers who want to get an exemption from abuse monitoring and human review can apply to modify the Azure OpenAI content management features by completing a form and meeting additional Limited Access eligibility criteria and attest to specific use cases. If Microsoft approves a customer's request to modify abuse monitoring, then Microsoft does not store any prompts and completions associated with the approved Azure subscription for which abuse monitoring is configured off.\"\n",
      "}\u001b[0m\n",
      "\n",
      "\u001b[1m> Finished chain.\u001b[0m\n"
     ]
    },
    {
     "data": {
      "text/plain": [
       "{'input': 'How can customers get an exemption from abuse monitoring and human review',\n",
       " 'chat_history': [],\n",
       " 'output': \"Customers who want to get an exemption from abuse monitoring and human review can apply to modify the Azure OpenAI content management features by completing a form and meeting additional Limited Access eligibility criteria and attest to specific use cases. If Microsoft approves a customer's request to modify abuse monitoring, then Microsoft does not store any prompts and completions associated with the approved Azure subscription for which abuse monitoring is configured off.\"}"
      ]
     },
     "execution_count": 27,
     "metadata": {},
     "output_type": "execute_result"
    }
   ],
   "source": [
    "agent(query)"
   ]
  },
  {
   "cell_type": "code",
   "execution_count": 28,
   "id": "ab26e3fb-3552-4819-9684-69313906bb87",
   "metadata": {},
   "outputs": [
    {
     "name": "stdout",
     "output_type": "stream",
     "text": [
      "\n",
      "\n",
      "\u001b[1m> Entering new  chain...\u001b[0m\n",
      "\u001b[32;1m\u001b[1;3m{\n",
      "    \"action\": \"Final Answer\",\n",
      "    \"action_input\": \"14\"\n",
      "}\u001b[0m\n",
      "\n",
      "\u001b[1m> Finished chain.\u001b[0m\n"
     ]
    },
    {
     "data": {
      "text/plain": [
       "{'input': 'what is 2 * 7?',\n",
       " 'chat_history': [HumanMessage(content='How can customers get an exemption from abuse monitoring and human review', additional_kwargs={}, example=False),\n",
       "  AIMessage(content=\"Customers who want to get an exemption from abuse monitoring and human review can apply to modify the Azure OpenAI content management features by completing a form and meeting additional Limited Access eligibility criteria and attest to specific use cases. If Microsoft approves a customer's request to modify abuse monitoring, then Microsoft does not store any prompts and completions associated with the approved Azure subscription for which abuse monitoring is configured off.\", additional_kwargs={}, example=False)],\n",
       " 'output': '14'}"
      ]
     },
     "execution_count": 28,
     "metadata": {},
     "output_type": "execute_result"
    }
   ],
   "source": [
    "agent(\"what is 2 * 7?\")"
   ]
  },
  {
   "cell_type": "code",
   "execution_count": 29,
   "id": "9efdcb56-8657-4b57-a9ae-0f51344e5fe3",
   "metadata": {},
   "outputs": [
    {
     "name": "stdout",
     "output_type": "stream",
     "text": [
      "\n",
      "\n",
      "\u001b[1m> Entering new  chain...\u001b[0m\n",
      "\u001b[32;1m\u001b[1;3m{\n",
      "    \"action\": \"Knowledge Base\",\n",
      "    \"action_input\": \"What data does the Azure OpenAI Service process?\"\n",
      "}\u001b[0m\n",
      "Observation: \u001b[36;1m\u001b[1;3mThe Azure OpenAI Service processes prompts to generate content, which can be augmented with relevant data from a configured data store when using the \"on your data\" feature. Customers can also provide their own training data consisting of prompt-completion pairs for the purposes of fine-tuning an OpenAI model. The service and Microsoft personnel also analyze prompts, completions, and images for harmful content and for patterns suggesting the use of the service in a manner that violates the Code of Conduct or other applicable product terms.\u001b[0m\n",
      "Thought:\u001b[32;1m\u001b[1;3m{\n",
      "    \"action\": \"Final Answer\",\n",
      "    \"action_input\": \"The Azure OpenAI Service processes prompts to generate content, which can be augmented with relevant data from a configured data store when using the 'on your data' feature. Customers can also provide their own training data consisting of prompt-completion pairs for the purposes of fine-tuning an OpenAI model. The service and Microsoft personnel also analyze prompts, completions, and images for harmful content and for patterns suggesting the use of the service in a manner that violates the Code of Conduct or other applicable product terms.\"\n",
      "}\u001b[0m\n",
      "\n",
      "\u001b[1m> Finished chain.\u001b[0m\n"
     ]
    },
    {
     "data": {
      "text/plain": [
       "{'input': 'What data does the Azure OpenAI Service process?',\n",
       " 'chat_history': [HumanMessage(content='How can customers get an exemption from abuse monitoring and human review', additional_kwargs={}, example=False),\n",
       "  AIMessage(content=\"Customers who want to get an exemption from abuse monitoring and human review can apply to modify the Azure OpenAI content management features by completing a form and meeting additional Limited Access eligibility criteria and attest to specific use cases. If Microsoft approves a customer's request to modify abuse monitoring, then Microsoft does not store any prompts and completions associated with the approved Azure subscription for which abuse monitoring is configured off.\", additional_kwargs={}, example=False),\n",
       "  HumanMessage(content='what is 2 * 7?', additional_kwargs={}, example=False),\n",
       "  AIMessage(content='14', additional_kwargs={}, example=False)],\n",
       " 'output': \"The Azure OpenAI Service processes prompts to generate content, which can be augmented with relevant data from a configured data store when using the 'on your data' feature. Customers can also provide their own training data consisting of prompt-completion pairs for the purposes of fine-tuning an OpenAI model. The service and Microsoft personnel also analyze prompts, completions, and images for harmful content and for patterns suggesting the use of the service in a manner that violates the Code of Conduct or other applicable product terms.\"}"
      ]
     },
     "execution_count": 29,
     "metadata": {},
     "output_type": "execute_result"
    }
   ],
   "source": [
    "agent('What data does the Azure OpenAI Service process?')"
   ]
  },
  {
   "cell_type": "code",
   "execution_count": null,
   "id": "46f1aae8-e6a8-4485-9f3b-72a9ef588deb",
   "metadata": {},
   "outputs": [],
   "source": []
  }
 ],
 "metadata": {
  "kernelspec": {
   "display_name": "Python 3 (ipykernel)",
   "language": "python",
   "name": "python3"
  },
  "language_info": {
   "codemirror_mode": {
    "name": "ipython",
    "version": 3
   },
   "file_extension": ".py",
   "mimetype": "text/x-python",
   "name": "python",
   "nbconvert_exporter": "python",
   "pygments_lexer": "ipython3",
   "version": "3.11.4"
  }
 },
 "nbformat": 4,
 "nbformat_minor": 5
}
