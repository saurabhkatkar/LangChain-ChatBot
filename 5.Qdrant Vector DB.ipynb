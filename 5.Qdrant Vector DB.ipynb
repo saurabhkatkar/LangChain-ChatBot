{
 "cells": [
  {
   "cell_type": "code",
   "execution_count": 1,
   "id": "cdb80947-d223-4b4f-ad99-d33de7da3ac6",
   "metadata": {},
   "outputs": [
    {
     "name": "stdout",
     "output_type": "stream",
     "text": [
      "Collecting qdrant_client\n",
      "  Using cached qdrant_client-1.3.1-py3-none-any.whl (132 kB)\n",
      "Requirement already satisfied: grpcio>=1.41.0 in /opt/conda/lib/python3.11/site-packages (from qdrant_client) (1.56.0)\n",
      "Collecting grpcio-tools>=1.41.0 (from qdrant_client)\n",
      "  Using cached grpcio_tools-1.56.0-cp311-cp311-manylinux_2_17_x86_64.manylinux2014_x86_64.whl (2.6 MB)\n",
      "Collecting httpx[http2]>=0.14.0 (from qdrant_client)\n",
      "  Using cached httpx-0.24.1-py3-none-any.whl (75 kB)\n",
      "Requirement already satisfied: numpy>=1.21 in /opt/conda/lib/python3.11/site-packages (from qdrant_client) (1.25.1)\n",
      "Collecting portalocker<3.0.0,>=2.7.0 (from qdrant_client)\n",
      "  Using cached portalocker-2.7.0-py2.py3-none-any.whl (15 kB)\n",
      "Requirement already satisfied: pydantic<2.0,>=1.8 in /opt/conda/lib/python3.11/site-packages (from qdrant_client) (1.10.11)\n",
      "Collecting typing-extensions<4.6.0,>=4.0.0 (from qdrant_client)\n",
      "  Using cached typing_extensions-4.5.0-py3-none-any.whl (27 kB)\n",
      "Collecting urllib3<2.0.0,>=1.26.14 (from qdrant_client)\n",
      "  Using cached urllib3-1.26.16-py2.py3-none-any.whl (143 kB)\n",
      "Requirement already satisfied: protobuf<5.0dev,>=4.21.6 in ./.local/lib/python3.11/site-packages (from grpcio-tools>=1.41.0->qdrant_client) (4.23.4)\n",
      "Requirement already satisfied: setuptools in /opt/conda/lib/python3.11/site-packages (from grpcio-tools>=1.41.0->qdrant_client) (68.0.0)\n",
      "Requirement already satisfied: certifi in /opt/conda/lib/python3.11/site-packages (from httpx[http2]>=0.14.0->qdrant_client) (2023.5.7)\n",
      "Collecting httpcore<0.18.0,>=0.15.0 (from httpx[http2]>=0.14.0->qdrant_client)\n",
      "  Using cached httpcore-0.17.3-py3-none-any.whl (74 kB)\n",
      "Requirement already satisfied: idna in /opt/conda/lib/python3.11/site-packages (from httpx[http2]>=0.14.0->qdrant_client) (3.4)\n",
      "Requirement already satisfied: sniffio in /opt/conda/lib/python3.11/site-packages (from httpx[http2]>=0.14.0->qdrant_client) (1.3.0)\n",
      "Collecting h2<5,>=3 (from httpx[http2]>=0.14.0->qdrant_client)\n",
      "  Using cached h2-4.1.0-py3-none-any.whl (57 kB)\n",
      "Collecting hyperframe<7,>=6.0 (from h2<5,>=3->httpx[http2]>=0.14.0->qdrant_client)\n",
      "  Using cached hyperframe-6.0.1-py3-none-any.whl (12 kB)\n",
      "Collecting hpack<5,>=4.0 (from h2<5,>=3->httpx[http2]>=0.14.0->qdrant_client)\n",
      "  Using cached hpack-4.0.0-py3-none-any.whl (32 kB)\n",
      "Collecting h11<0.15,>=0.13 (from httpcore<0.18.0,>=0.15.0->httpx[http2]>=0.14.0->qdrant_client)\n",
      "  Using cached h11-0.14.0-py3-none-any.whl (58 kB)\n",
      "Requirement already satisfied: anyio<5.0,>=3.0 in /opt/conda/lib/python3.11/site-packages (from httpcore<0.18.0,>=0.15.0->httpx[http2]>=0.14.0->qdrant_client) (3.7.1)\n",
      "Installing collected packages: urllib3, typing-extensions, portalocker, hyperframe, hpack, h11, grpcio-tools, httpcore, h2, httpx, qdrant_client\n",
      "  Attempting uninstall: urllib3\n",
      "    Found existing installation: urllib3 2.0.3\n",
      "    Uninstalling urllib3-2.0.3:\n",
      "      Successfully uninstalled urllib3-2.0.3\n",
      "  Attempting uninstall: typing-extensions\n",
      "    Found existing installation: typing_extensions 4.7.1\n",
      "    Uninstalling typing_extensions-4.7.1:\n",
      "      Successfully uninstalled typing_extensions-4.7.1\n",
      "Successfully installed grpcio-tools-1.56.0 h11-0.14.0 h2-4.1.0 hpack-4.0.0 httpcore-0.17.3 httpx-0.24.1 hyperframe-6.0.1 portalocker-2.7.0 qdrant_client-1.3.1 typing-extensions-4.5.0 urllib3-1.26.16\n"
     ]
    }
   ],
   "source": [
    "!pip install qdrant_client"
   ]
  },
  {
   "cell_type": "code",
   "execution_count": 2,
   "id": "5daa3b7a-658e-4fc8-8d93-9d6a2f1ac9fc",
   "metadata": {},
   "outputs": [],
   "source": [
    "from qdrant_client import QdrantClient"
   ]
  },
  {
   "cell_type": "code",
   "execution_count": 3,
   "id": "36c426c0-c497-4fcf-8fa0-f8f8a7c7d1f3",
   "metadata": {},
   "outputs": [
    {
     "data": {
      "text/plain": [
       "True"
      ]
     },
     "execution_count": 3,
     "metadata": {},
     "output_type": "execute_result"
    }
   ],
   "source": [
    "from qdrant_client import QdrantClient\n",
    "from qdrant_client.http.models import Distance, VectorParams\n",
    "import os\n",
    "\n",
    "\n",
    "qdrant_host = os.getenv('QDRANT_HOST') or '127.0.0.1'\n",
    "qdrant_port = os.getenv('QDRANT_PORT') or \"6333\"\n",
    "\n",
    "client = QdrantClient(qdrant_host, port=qdrant_port)\n",
    "client.recreate_collection(\n",
    "    collection_name=\"test_collection\",\n",
    "    vectors_config=VectorParams(size=4, distance=Distance.DOT),\n",
    ")"
   ]
  },
  {
   "cell_type": "code",
   "execution_count": 5,
   "id": "40fdbf9b-f6d2-43d5-8ab1-27057d92ca99",
   "metadata": {},
   "outputs": [
    {
     "data": {
      "text/plain": [
       "CollectionInfo(status=<CollectionStatus.GREEN: 'green'>, optimizer_status=<OptimizersStatusOneOf.OK: 'ok'>, vectors_count=0, indexed_vectors_count=0, points_count=0, segments_count=2, config=CollectionConfig(params=CollectionParams(vectors=VectorParams(size=4, distance=<Distance.DOT: 'Dot'>, hnsw_config=None, quantization_config=None, on_disk=None), shard_number=1, replication_factor=1, write_consistency_factor=1, on_disk_payload=True), hnsw_config=HnswConfig(m=16, ef_construct=100, full_scan_threshold=10000, max_indexing_threads=0, on_disk=False, payload_m=None), optimizer_config=OptimizersConfig(deleted_threshold=0.2, vacuum_min_vector_number=1000, default_segment_number=0, max_segment_size=None, memmap_threshold=None, indexing_threshold=20000, flush_interval_sec=5, max_optimization_threads=1), wal_config=WalConfig(wal_capacity_mb=32, wal_segments_ahead=0), quantization_config=None), payload_schema={})"
      ]
     },
     "execution_count": 5,
     "metadata": {},
     "output_type": "execute_result"
    }
   ],
   "source": [
    "collection_info = client.get_collection(collection_name=\"test_collection\")\n",
    "collection_info"
   ]
  },
  {
   "cell_type": "code",
   "execution_count": 6,
   "id": "2c42b3e8-b121-484c-b81e-618e6f5e08ab",
   "metadata": {},
   "outputs": [],
   "source": [
    "from qdrant_client.http.models import PointStruct\n",
    "\n",
    "operation_info = client.upsert(\n",
    "    collection_name=\"test_collection\",\n",
    "    wait=True,\n",
    "    points=[\n",
    "        PointStruct(id=1, vector=[0.05, 0.61, 0.76, 0.74], payload={\"city\": \"Berlin\"}),\n",
    "        PointStruct(id=2, vector=[0.19, 0.81, 0.75, 0.11], payload={\"city\": [\"Berlin\", \"London\"]}),\n",
    "        PointStruct(id=3, vector=[0.36, 0.55, 0.47, 0.94], payload={\"city\": [\"Berlin\", \"Moscow\"]}),\n",
    "        PointStruct(id=4, vector=[0.18, 0.01, 0.85, 0.80], payload={\"city\": [\"London\", \"Moscow\"]}),\n",
    "        PointStruct(id=5, vector=[0.24, 0.18, 0.22, 0.44], payload={\"count\": [0]}),\n",
    "        PointStruct(id=6, vector=[0.35, 0.08, 0.11, 0.44]),\n",
    "    ]\n",
    ")"
   ]
  },
  {
   "cell_type": "code",
   "execution_count": 7,
   "id": "bfedf67b-7f9a-4c7d-9fdb-7d93ae89c03c",
   "metadata": {},
   "outputs": [],
   "source": [
    "search_result = client.search(\n",
    "    collection_name=\"test_collection\",\n",
    "    query_vector=[0.2, 0.1, 0.9, 0.7], \n",
    "    limit=3\n",
    ")"
   ]
  },
  {
   "cell_type": "code",
   "execution_count": 8,
   "id": "0028a5b9-bc47-4e13-88b0-91af589c37fa",
   "metadata": {},
   "outputs": [
    {
     "data": {
      "text/plain": [
       "[ScoredPoint(id=4, version=0, score=1.362, payload={'city': ['London', 'Moscow']}, vector=None),\n",
       " ScoredPoint(id=1, version=0, score=1.273, payload={'city': 'Berlin'}, vector=None),\n",
       " ScoredPoint(id=3, version=0, score=1.208, payload={'city': ['Berlin', 'Moscow']}, vector=None)]"
      ]
     },
     "execution_count": 8,
     "metadata": {},
     "output_type": "execute_result"
    }
   ],
   "source": [
    "search_result"
   ]
  },
  {
   "cell_type": "code",
   "execution_count": null,
   "id": "1ed432e1-af5a-4806-837d-f44cc46c33c7",
   "metadata": {},
   "outputs": [],
   "source": []
  }
 ],
 "metadata": {
  "kernelspec": {
   "display_name": "Python 3 (ipykernel)",
   "language": "python",
   "name": "python3"
  },
  "language_info": {
   "codemirror_mode": {
    "name": "ipython",
    "version": 3
   },
   "file_extension": ".py",
   "mimetype": "text/x-python",
   "name": "python",
   "nbconvert_exporter": "python",
   "pygments_lexer": "ipython3",
   "version": "3.11.4"
  }
 },
 "nbformat": 4,
 "nbformat_minor": 5
}
