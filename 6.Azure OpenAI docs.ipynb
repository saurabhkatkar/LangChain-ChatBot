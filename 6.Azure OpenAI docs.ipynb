{
 "cells": [
  {
   "cell_type": "code",
   "execution_count": 1,
   "id": "b7ca5c3c-9b99-428f-b67b-0170d412307b",
   "metadata": {},
   "outputs": [],
   "source": [
    "from langchain.document_loaders import DirectoryLoader\n",
    "from langchain.document_loaders import PyPDFLoader"
   ]
  },
  {
   "cell_type": "code",
   "execution_count": 2,
   "id": "857457d1-d05a-469f-b134-92863668afd4",
   "metadata": {},
   "outputs": [],
   "source": [
    "path = './SourceData/azure-openai-docs.pdf'\n",
    "loader = PyPDFLoader(path)"
   ]
  },
  {
   "cell_type": "code",
   "execution_count": 3,
   "id": "101df24a-51c6-4a1e-9758-f1700bb804bc",
   "metadata": {},
   "outputs": [],
   "source": [
    "pages = loader.load_and_split()"
   ]
  },
  {
   "cell_type": "code",
   "execution_count": 4,
   "id": "4be74a34-5ea0-4b89-940a-6dd258e715c8",
   "metadata": {},
   "outputs": [
    {
     "data": {
      "text/plain": [
       "Document(page_content=\"Tell us about y our PDF experience.\\nOVERVIEW\\nWhat is Azur e OpenAI Ser vice?QUICKSTART\\nQuickstar ts\\nHOW-TO GUIDE\\nCreate a resour ceTUTORIAL\\nEmbeddings\\nHOW-TO GUIDE\\nCompletionsTRAINING\\nIntro to Azur e OpenAI training\\nCONCEPT\\nAzur e OpenAI Models\\nREFERENCE\\nSuppor t and help options\\nAdditional resources\\nAzur e OpenAI\\nAzure OpenAI S tudio \\nRegion support \\nQuotas and limits\\nApply for access to Azure OpenAI \\nVideo\\nCombining OpenAI models with the power of AzureAzure OpenAI Service Documentation\\nLearn how to use Azure OpenAI's powerful language models including the GPT-3, Codex and\\nEmbeddings model series for content generation, summarization, semantic search, and natural\\nlanguage to code translation.\", metadata={'source': './SourceData/azure-openai-docs.pdf', 'page': 0})"
      ]
     },
     "execution_count": 4,
     "metadata": {},
     "output_type": "execute_result"
    }
   ],
   "source": [
    "pages[0]"
   ]
  },
  {
   "cell_type": "code",
   "execution_count": 5,
   "id": "853803a6-2d90-425c-af5f-f66bcfae83c0",
   "metadata": {},
   "outputs": [],
   "source": [
    "import tiktoken\n",
    "\n",
    "tokenizer = tiktoken.get_encoding('cl100k_base')\n",
    "\n",
    "# create the length function\n",
    "def tiktoken_len(text):\n",
    "    tokens = tokenizer.encode(\n",
    "        text,\n",
    "        disallowed_special=()\n",
    "    )\n",
    "    return len(tokens)"
   ]
  },
  {
   "cell_type": "code",
   "execution_count": 6,
   "id": "0f5861af-5fac-4706-b964-31e54a4b065d",
   "metadata": {},
   "outputs": [
    {
     "data": {
      "text/plain": [
       "<Encoding 'cl100k_base'>"
      ]
     },
     "execution_count": 6,
     "metadata": {},
     "output_type": "execute_result"
    }
   ],
   "source": [
    "tiktoken.encoding_for_model('gpt-3.5-turbo')"
   ]
  },
  {
   "cell_type": "code",
   "execution_count": 7,
   "id": "47cbe65f-ebf6-4352-95d0-17fe72448a33",
   "metadata": {},
   "outputs": [
    {
     "data": {
      "text/plain": [
       "\"Tell us about y our PDF experience.\\nOVERVIEW\\nWhat is Azur e OpenAI Ser vice?QUICKSTART\\nQuickstar ts\\nHOW-TO GUIDE\\nCreate a resour ceTUTORIAL\\nEmbeddings\\nHOW-TO GUIDE\\nCompletionsTRAINING\\nIntro to Azur e OpenAI training\\nCONCEPT\\nAzur e OpenAI Models\\nREFERENCE\\nSuppor t and help options\\nAdditional resources\\nAzur e OpenAI\\nAzure OpenAI S tudio \\nRegion support \\nQuotas and limits\\nApply for access to Azure OpenAI \\nVideo\\nCombining OpenAI models with the power of AzureAzure OpenAI Service Documentation\\nLearn how to use Azure OpenAI's powerful language models including the GPT-3, Codex and\\nEmbeddings model series for content generation, summarization, semantic search, and natural\\nlanguage to code translation.\""
      ]
     },
     "execution_count": 7,
     "metadata": {},
     "output_type": "execute_result"
    }
   ],
   "source": [
    "pages[0].page_content"
   ]
  },
  {
   "cell_type": "code",
   "execution_count": 8,
   "id": "544de7b9-77e0-4ded-9e25-8efdb9cd9233",
   "metadata": {},
   "outputs": [],
   "source": [
    "token_counts = [tiktoken_len(doc.page_content) for doc in pages]"
   ]
  },
  {
   "cell_type": "code",
   "execution_count": 9,
   "id": "7790be61-ff2c-42f1-a471-5f20aebe32e9",
   "metadata": {},
   "outputs": [
    {
     "name": "stdout",
     "output_type": "stream",
     "text": [
      "Min: 13\n",
      "Avg: 306\n",
      "Max: 630\n"
     ]
    }
   ],
   "source": [
    "print(f\"\"\"Min: {min(token_counts)}\n",
    "Avg: {int(sum(token_counts) / len(token_counts))}\n",
    "Max: {max(token_counts)}\"\"\")"
   ]
  },
  {
   "cell_type": "code",
   "execution_count": 10,
   "id": "6ebdf87f-8055-47db-b6ec-91522575a2a1",
   "metadata": {},
   "outputs": [
    {
     "data": {
      "image/png": "[encoded data removed]",
      "text/plain": [
       "<Figure size 1200x600 with 1 Axes>"
      ]
     },
     "metadata": {},
     "output_type": "display_data"
    }
   ],
   "source": [
    "import matplotlib.pyplot as plt\n",
    "import seaborn as sns\n",
    "\n",
    "# set style and color palette for the plot\n",
    "sns.set_style(\"whitegrid\")\n",
    "sns.set_palette(\"muted\")\n",
    "\n",
    "# create histogram\n",
    "plt.figure(figsize=(12, 6))\n",
    "sns.histplot(token_counts, kde=False, bins=50)\n",
    "\n",
    "# customize the plot info\n",
    "plt.title(\"Token Counts Histogram\")\n",
    "plt.xlabel(\"Token Count\")\n",
    "plt.ylabel(\"Frequency\")\n",
    "\n",
    "plt.show()"
   ]
  },
  {
   "cell_type": "code",
   "execution_count": 11,
   "id": "f0455b67-104f-4760-8cc7-996cf2322d92",
   "metadata": {},
   "outputs": [],
   "source": [
    "from langchain.text_splitter import RecursiveCharacterTextSplitter\n",
    "\n",
    "text_splitter = RecursiveCharacterTextSplitter(\n",
    "    chunk_size=400,\n",
    "    chunk_overlap=20,  # number of tokens overlap between chunks\n",
    "    length_function=tiktoken_len,\n",
    "    separators=['\\n\\n', '\\n', ' ', '']\n",
    ")"
   ]
  },
  {
   "cell_type": "code",
   "execution_count": 12,
   "id": "86e26107-9f90-4512-b7ef-9afb2fcf6534",
   "metadata": {},
   "outputs": [
    {
     "data": {
      "text/plain": [
       "1"
      ]
     },
     "execution_count": 12,
     "metadata": {},
     "output_type": "execute_result"
    }
   ],
   "source": [
    "chunks = text_splitter.split_text(pages[5].page_content)\n",
    "len(chunks)"
   ]
  },
  {
   "cell_type": "code",
   "execution_count": 13,
   "id": "106a7725-9095-4775-af34-e6cab4869840",
   "metadata": {},
   "outputs": [
    {
     "data": {
      "text/plain": [
       "281"
      ]
     },
     "execution_count": 13,
     "metadata": {},
     "output_type": "execute_result"
    }
   ],
   "source": [
    "tiktoken_len(chunks[0])"
   ]
  },
  {
   "cell_type": "code",
   "execution_count": 14,
   "id": "5cf30df9-f1f1-47aa-b358-5c531544b237",
   "metadata": {},
   "outputs": [
    {
     "name": "stdout",
     "output_type": "stream",
     "text": [
      "https://learn.microsoft.com/en-us/azure/cognitive-services/openai/overview\n",
      "b947311d1592\n"
     ]
    }
   ],
   "source": [
    "import hashlib\n",
    "m = hashlib.md5()  # this will convert URL into unique ID\n",
    "\n",
    "path = \"https://learn.microsoft.com/en-us/azure/cognitive-services/openai/overview\"\n",
    "print(path)\n",
    "\n",
    "url = pages[5].metadata['source']\n",
    "\n",
    "# convert URL to unique ID\n",
    "m.update(url.encode('utf-8'))\n",
    "uid = m.hexdigest()[:12]\n",
    "print(uid)"
   ]
  },
  {
   "cell_type": "code",
   "execution_count": 15,
   "id": "6a2ad136-dd87-4a74-8389-bc45c95960b6",
   "metadata": {},
   "outputs": [
    {
     "data": {
      "text/plain": [
       "[{'id': 'b947311d1592-0',\n",
       "  'text': \"responds with a text completion. This completion is the model’s continuation of the\\ninput text.\\nWhile these models are extremely powerful, their behavior is also very sensitive to the\\nprompt. This makes prompt engineering  an important skill to develop.\\nPrompt construction can be difficult. In practice, the prompt acts to configure the model\\nweights to complete the desired task, but it's more of an art than a science, often\\nrequiring experience and intuition to craft a successful prompt.\\nThe service provides users access to several different models. Each model provides a\\ndifferent capability and price point.\\nGPT-4 models are the latest available models. Due to high demand access to this model\\nseries is currently only available by request. T o request access, existing Azure OpenAI\\ncustomers can apply by filling out this form\\nThe GPT-3 base models are known as Davinci, Curie, Babbage, and Ada in decreasing\\norder of capability and increasing order of speed.\\nThe Codex series of models is a descendant of GPT-3 and has been trained on both\\nnatural language and code to power natural language to code use cases. Learn more\\nabout each model on our models concept page .\\nThe D ALL-E models, currently in preview, generate images from text prompts that the\\nuser provides.\\nLearn more about the underlying models that power Azure OpenAI .Models\\nNext steps\",\n",
       "  'source': 'https://learn.microsoft.com/en-us/azure/cognitive-services/openai/overview'}]"
      ]
     },
     "execution_count": 15,
     "metadata": {},
     "output_type": "execute_result"
    }
   ],
   "source": [
    "data = [\n",
    "    {\n",
    "        'id': f'{uid}-{i}',\n",
    "        'text': chunk,\n",
    "        'source': path\n",
    "    } for i, chunk in enumerate(chunks)\n",
    "]\n",
    "data"
   ]
  },
  {
   "cell_type": "code",
   "execution_count": 16,
   "id": "de8389db-22ef-4bc8-a14f-11f9d57a629c",
   "metadata": {},
   "outputs": [
    {
     "name": "stderr",
     "output_type": "stream",
     "text": [
      "/opt/conda/lib/python3.11/site-packages/tqdm/auto.py:21: TqdmWarning: IProgress not found. Please update jupyter and ipywidgets. See https://ipywidgets.readthedocs.io/en/stable/user_install.html\n",
      "  from .autonotebook import tqdm as notebook_tqdm\n",
      "100%|██████████| 349/349 [00:00<00:00, 1412.05it/s]\n"
     ]
    },
    {
     "data": {
      "text/plain": [
       "454"
      ]
     },
     "execution_count": 16,
     "metadata": {},
     "output_type": "execute_result"
    }
   ],
   "source": [
    "from tqdm.auto import tqdm\n",
    "\n",
    "documents = []\n",
    "\n",
    "\n",
    "for doc in tqdm(pages):\n",
    "    path =  \"https://learn.microsoft.com/en-us/azure/cognitive-services/openai/overview\"\n",
    "    url = doc.metadata['source']\n",
    "    m.update(url.encode('utf-8'))\n",
    "    uid = m.hexdigest()[:12]\n",
    "    chunks = text_splitter.split_text(doc.page_content)\n",
    "    for i, chunk in enumerate(chunks):\n",
    "        documents.append({\n",
    "            'id': f'{uid}-{i}',\n",
    "            'text': chunk,\n",
    "            'source': path\n",
    "        })\n",
    "\n",
    "len(documents)"
   ]
  },
  {
   "cell_type": "code",
   "execution_count": 17,
   "id": "9d5bff01-39ce-4b8d-9547-184ed39c63e1",
   "metadata": {},
   "outputs": [],
   "source": [
    "import json\n",
    "\n",
    "with open('TrainData/azure_train.jsonl', 'w') as f:\n",
    "    for doc in documents:\n",
    "        f.write(json.dumps(doc) + '\\n')"
   ]
  },
  {
   "cell_type": "code",
   "execution_count": 18,
   "id": "ef3aa07f-06ca-4c4c-82f8-69d44b6af0dd",
   "metadata": {},
   "outputs": [
    {
     "data": {
      "text/plain": [
       "Document(page_content=\"Tell us about y our PDF experience.\\nOVERVIEW\\nWhat is Azur e OpenAI Ser vice?QUICKSTART\\nQuickstar ts\\nHOW-TO GUIDE\\nCreate a resour ceTUTORIAL\\nEmbeddings\\nHOW-TO GUIDE\\nCompletionsTRAINING\\nIntro to Azur e OpenAI training\\nCONCEPT\\nAzur e OpenAI Models\\nREFERENCE\\nSuppor t and help options\\nAdditional resources\\nAzur e OpenAI\\nAzure OpenAI S tudio \\nRegion support \\nQuotas and limits\\nApply for access to Azure OpenAI \\nVideo\\nCombining OpenAI models with the power of AzureAzure OpenAI Service Documentation\\nLearn how to use Azure OpenAI's powerful language models including the GPT-3, Codex and\\nEmbeddings model series for content generation, summarization, semantic search, and natural\\nlanguage to code translation.\", metadata={'source': './SourceData/azure-openai-docs.pdf', 'page': 0})"
      ]
     },
     "execution_count": 18,
     "metadata": {},
     "output_type": "execute_result"
    }
   ],
   "source": [
    "docs = text_splitter.split_documents(pages)\n",
    "docs[0]"
   ]
  },
  {
   "cell_type": "code",
   "execution_count": null,
   "id": "6c65dec9-dffd-4617-9413-1c43243709e6",
   "metadata": {},
   "outputs": [],
   "source": []
  },
  {
   "cell_type": "code",
   "execution_count": 19,
   "id": "73414d51-5f60-4686-b9c8-c59ac4a49cd5",
   "metadata": {},
   "outputs": [
    {
     "data": {
      "text/plain": [
       "454"
      ]
     },
     "execution_count": 19,
     "metadata": {},
     "output_type": "execute_result"
    }
   ],
   "source": [
    "documents = []\n",
    "\n",
    "with open('TrainData/azure_train.jsonl', 'r') as f:\n",
    "    for line in f:\n",
    "        documents.append(json.loads(line))\n",
    "\n",
    "len(documents)"
   ]
  },
  {
   "cell_type": "code",
   "execution_count": 20,
   "id": "fd20babf-c4e5-4501-8c4a-395e6d3c72e2",
   "metadata": {},
   "outputs": [
    {
     "data": {
      "text/plain": [
       "{'id': 'ef4ae6fa7b61-0',\n",
       " 'text': \"Tell us about y our PDF experience.\\nOVERVIEW\\nWhat is Azur e OpenAI Ser vice?QUICKSTART\\nQuickstar ts\\nHOW-TO GUIDE\\nCreate a resour ceTUTORIAL\\nEmbeddings\\nHOW-TO GUIDE\\nCompletionsTRAINING\\nIntro to Azur e OpenAI training\\nCONCEPT\\nAzur e OpenAI Models\\nREFERENCE\\nSuppor t and help options\\nAdditional resources\\nAzur e OpenAI\\nAzure OpenAI S tudio \\nRegion support \\nQuotas and limits\\nApply for access to Azure OpenAI \\nVideo\\nCombining OpenAI models with the power of AzureAzure OpenAI Service Documentation\\nLearn how to use Azure OpenAI's powerful language models including the GPT-3, Codex and\\nEmbeddings model series for content generation, summarization, semantic search, and natural\\nlanguage to code translation.\",\n",
       " 'source': 'https://learn.microsoft.com/en-us/azure/cognitive-services/openai/overview'}"
      ]
     },
     "execution_count": 20,
     "metadata": {},
     "output_type": "execute_result"
    }
   ],
   "source": [
    "documents[0]"
   ]
  },
  {
   "cell_type": "code",
   "execution_count": 21,
   "id": "e2d10b6b-17f7-4da1-a1ab-e9073c61a570",
   "metadata": {},
   "outputs": [],
   "source": [
    "from langchain.embeddings import HuggingFaceEmbeddings\n",
    "hf_embeddings = HuggingFaceEmbeddings(\n",
    "    model_name=\"sentence-transformers/all-mpnet-base-v2\"\n",
    ")"
   ]
  },
  {
   "cell_type": "code",
   "execution_count": 59,
   "id": "038e0a39-d05b-4182-9d60-2aef7b45af48",
   "metadata": {},
   "outputs": [],
   "source": [
    "from langchain.vectorstores import Qdrant\n",
    "from qdrant_client import QdrantClient\n",
    "from qdrant_client.http.models import Distance, VectorParams\n",
    "import os"
   ]
  },
  {
   "cell_type": "code",
   "execution_count": 46,
   "id": "4d10e34c-498c-401e-84cc-5aa5a524af72",
   "metadata": {},
   "outputs": [],
   "source": [
    "qdrant_host = os.getenv('QDRANT_HOST') or '127.0.0.1'\n",
    "qdrant_port = os.getenv('QDRANT_PORT') or \"6333\"\n",
    "\n",
    "qudrant_url = f\"http://{qdrant_host}:{qdrant_port}\"\n",
    "\n"
   ]
  },
  {
   "cell_type": "code",
   "execution_count": 71,
   "id": "9288b033-ca45-4ffe-b499-db3412c0f586",
   "metadata": {},
   "outputs": [],
   "source": [
    "collection_name = \"AzureOpenai\""
   ]
  },
  {
   "cell_type": "code",
   "execution_count": 52,
   "id": "66a69add-ce47-43f2-b0e4-93bce3227fe2",
   "metadata": {},
   "outputs": [],
   "source": [
    "qdrant_client = QdrantClient(qdrant_host, port=qdrant_port)"
   ]
  },
  {
   "cell_type": "code",
   "execution_count": 72,
   "id": "553b38c5-2343-4f3f-a41c-a5e10b5687ed",
   "metadata": {},
   "outputs": [],
   "source": [
    "doc_store = Qdrant(\n",
    "    client=qdrant_client, collection_name=collection_name, \n",
    "    embeddings=hf_embeddings,\n",
    ")"
   ]
  },
  {
   "cell_type": "code",
   "execution_count": 56,
   "id": "3d990a65-6f9e-4423-9add-177c141a37c1",
   "metadata": {},
   "outputs": [],
   "source": []
  },
  {
   "cell_type": "code",
   "execution_count": 60,
   "id": "c7c0071a-67c3-4b68-84d5-850afede4e33",
   "metadata": {},
   "outputs": [
    {
     "data": {
      "text/plain": [
       "True"
      ]
     },
     "execution_count": 60,
     "metadata": {},
     "output_type": "execute_result"
    }
   ],
   "source": [
    "qdrant_client.recreate_collection(\n",
    "    collection_name=collection_name,\n",
    "    vectors_config=VectorParams(size=768, distance=Distance.DOT),\n",
    ")"
   ]
  },
  {
   "cell_type": "code",
   "execution_count": 61,
   "id": "7e1b27b9-c620-4777-9d61-d75184b91fbb",
   "metadata": {},
   "outputs": [],
   "source": [
    "\n",
    "qdrant = Qdrant(qdrant_client, collection_name, hf_embeddings)"
   ]
  },
  {
   "cell_type": "code",
   "execution_count": 62,
   "id": "ae52d9ca-046f-4310-a47d-a0bfced388bc",
   "metadata": {},
   "outputs": [
    {
     "data": {
      "text/plain": [
       "['3f37f33ec50d42af84445d1ff6e23129',\n",
       " 'd458e009325f42e8808fd4fce00b34c7',\n",
       " '5f27d27c8ca949c7a9ec40a55a51bc5d',\n",
       " '3290dbd5b7414fa8a52ded57c578edbc',\n",
       " '4963417c8b1246d19c15234f5bcdd2e3',\n",
       " 'dd05e4e8e1a543169ee48b4b445f7b0e',\n",
       " '00db443a83ce41d2a27c3d6bcb32d24d',\n",
       " '8c3ee9f2276f4c9c9536029b88861ab1',\n",
       " '5cca364aa87643ce816bd6dfbe2f8cd8',\n",
       " 'ccd0ed7d13994494b9663c579c54ec65',\n",
       " '037999a88ac246d1a0f9ac3abe107585',\n",
       " '8184c6eb84b444afad8d3092b98d0cb7',\n",
       " '67765bd9974e4a64b0baaa9b6a8ddfe3',\n",
       " 'c857cf96b8054a66b3302148bb0c60ee',\n",
       " 'ae1cdcf8eb3342779e331a6045ff0ffe',\n",
       " 'c94c5d39b3794b4d960e728e8d7e5d20',\n",
       " 'e1284dbb4c4140f09b6b12c38f6164ed',\n",
       " '8ac654c2756644d9abed0ef4265bc8aa',\n",
       " '47fbe88891ea426cb6949bdf71b44d36',\n",
       " 'bf3ad3e5f5cd4680bf299b06d87b2125',\n",
       " 'b1bc4564adaf45b08439d2ba2d1cbac4',\n",
       " '0de2de1033bd494bb37859713b34672b',\n",
       " 'e02cb8f6ed754dbbad8150922ce9d3fd',\n",
       " '81cfe2f00e614df2a0c90f5c6f184d10',\n",
       " 'caaee84fba614a258afd9256dd09550d',\n",
       " 'a8a053bd33f8412886ee5063ba7db5e3',\n",
       " 'c83939a5fef74722b94b0a8dc4b1240f',\n",
       " 'fc8bd20967414c0b9580ca6b123be371',\n",
       " 'dfb7f48d182b4098adf0d1727143a466',\n",
       " '9fb06e4ec5014f1097e6557bfb7c3d53',\n",
       " 'abc3ed1fdfcb4254ab53ca1b743dae4f',\n",
       " '3ee1e84223004b09b2dcb8581757d90e',\n",
       " '24029ae9e8514f6f99a36dec02f2c6a6',\n",
       " '1658c9cdd09d401f876c87272c509827',\n",
       " '54144b1556c44dce96a1f5312f653bba',\n",
       " 'd49ec8b3c0b54300be36ec349b29f475',\n",
       " 'a1b070526fbd4fe1abee9dd81e74a831',\n",
       " '498acd5df01b4f09a975a42f5d38ddee',\n",
       " '16349ff664ca4fbcbf0c275c8f8bfe00',\n",
       " '7f08aa0099dc422884dbe0241fe08ae6',\n",
       " 'db6f5e62d203461280d7eb00b70b59a2',\n",
       " '8f5dd34bd74f47cb9b6cb64b6372bda0',\n",
       " 'c6a272b8a1574cf4a3064d38ba244593',\n",
       " '31c9da63c24d4c3a86f2b7825cdf75d3',\n",
       " '50a35f608a834327ab95c26632ae4518',\n",
       " 'bdf07439016a4279b5e54d415f1a35f2',\n",
       " 'd2bc600edad34e2a8e7d6f2a227d70d7',\n",
       " 'e075f15321c64f32b837e555cdcc2ea5',\n",
       " '8d0c7d24677148e0aefe5c042f42a6b1',\n",
       " '63374b5177f445deb5e33d6cabc890c2',\n",
       " '1fc983e7ee194e648be0a9ff6dec2a26',\n",
       " 'a47f847a1dce47f4b8df2592f175b026',\n",
       " '2cd56b1c266f45c69c87310856f7f88e',\n",
       " '436e61df140c4860ba0ac0e7a5db80d8',\n",
       " '3d398a016f4e44a695ee1b06f1651325',\n",
       " '6fa0d44835e44424bf15994f4cfbb689',\n",
       " 'a6ff8f773d7e43fc82c17996b28b5907',\n",
       " 'ef776b0f45d84f289f85c0e18e28b8c1',\n",
       " '4ff25138bd3d4a69aa5985b180c998f6',\n",
       " '228e1939db17460fa11fca71cc676de4',\n",
       " 'fd03373254424c63acbc21dd1eb4061b',\n",
       " 'c53cae6e962b461e9811af0fc2abbd40',\n",
       " '7d539fb23c7844ed8e6290f325ef34b6',\n",
       " '11409d22d0314cf88745b1a10429c07b',\n",
       " '57e1bf09f0c04cef891569708766bb60',\n",
       " '80669f52a38e4b75aa4c507c11c99f14',\n",
       " 'a370fffff0fc42f3be2affbf95fd4d84',\n",
       " '055043dd203e4036bf111ca166d51ee4',\n",
       " '0e97a5ab2e5046f3abe46a2f19e51b6b',\n",
       " 'ab749ba02ff44095b87485f26c58d013',\n",
       " '21df606e0c3c4c808497b258799e4d42',\n",
       " '59a3451fde28491592910d4f9aef0d8f',\n",
       " 'da46fbafc70242aba314c400829f2413',\n",
       " 'cd8c0b868f3542908c330f73d6843bb8',\n",
       " '818860de558f42d18c3b9bb33cabfcfb',\n",
       " 'f65b20ac24564a6eb24226876f933d9b',\n",
       " 'd464ecdc1c84457cb2d9c102e62e6b22',\n",
       " 'feb45e5d6ace4ab29b3b0788684a7e0c',\n",
       " '4586b01eab2a4a768a287d3495ceb64f',\n",
       " 'd6c4ac1d00a341e28bf43fc193c08073',\n",
       " '8b72ae9ca9264075accf19723bb650e2',\n",
       " 'c650dae8f7fc4e84a14d02c7e5b2f5d4',\n",
       " 'ad09c83bfc0f40469e921c0e58ede6e0',\n",
       " 'fed801adfe334b9ba329603a7a771278',\n",
       " '475a60e152d24247a6e0d1995fdd5a9d',\n",
       " 'aef897ea403e4878b767d5caab0f7ae7',\n",
       " '7bcbe08065ce4086a9290952211ca9fb',\n",
       " '5a4c118df2bf407c97343e4078ef3a15',\n",
       " 'abf96fd32eff40778d037a449a102946',\n",
       " '2de6a19771404cca9841c5dae658bcdb',\n",
       " '9f7d3aec6cbc4ab6b08400c4bce5a614',\n",
       " '6efd5644ade748b0a00fff03d3ff3075',\n",
       " '0fde9815b509480da1e091ded8208d34',\n",
       " '6227460116e942beb81aaaabf9df5141',\n",
       " '67d9c88fc0734e0885cd4cc57d52acd3',\n",
       " '6581a8f9d9eb4d93b1cf3e53b359d52d',\n",
       " '25f2d0c088324d3d9ef7d4f158609276',\n",
       " '0f1a780e247f4bd29c1e2ff406fc7cf3',\n",
       " 'f2c5b487b83048d482529d7c378e23a0',\n",
       " '0443613643104f328ae3767e59dd4a89',\n",
       " '0c8cdabb193647098783cae0a76f6440',\n",
       " '21ad6d1b2a1b4cd6af06f3619a97be1e',\n",
       " '8d32e107d75944b0ba560052167b6995',\n",
       " 'ea80145359d74a1a9ff421a72420cf0d',\n",
       " 'd1ba004b481f4dba9d0d7fea7521080a',\n",
       " 'c3c811bf8df34f37aa958054b6841ea9',\n",
       " '6bdc207fbd044a9a8815736c898b81ce',\n",
       " 'da8353633dda4bc690d26ee50c348d61',\n",
       " 'a5b56af385b14aad9620f238365b2e96',\n",
       " 'c08caadf569a487b9711232eba9a2ec0',\n",
       " '7efc615b89fa4099a8fd12b8d74639a3',\n",
       " '59ded63c476c4c6fbc18bc5cf829116b',\n",
       " 'a28b0647af9044ce9d9a52e389f13f3f',\n",
       " '27726f316afe49ceba5c3b5f9da93a8f',\n",
       " 'cec653ae428b4fad85e1c20433a8e609',\n",
       " 'f03348b017ba40a5b9ee36c4624003c8',\n",
       " 'd91ac002007e4e61a1b5f37de42a8fcb',\n",
       " '8b183829705c46f5a69dd817e71156be',\n",
       " '4c77e264441f4125a30cd38b3664ea28',\n",
       " '212b38a61cff46f7b1e0919a0ef34ab4',\n",
       " '303519c16dec4785863fde95a9eb28f7',\n",
       " '52337f1cf9a740e9862949e39bcf5424',\n",
       " 'e77efc0c39a34bedb6af0a45ef95b698',\n",
       " 'fe0d8c7741724c669151eb1a11cf1c5c',\n",
       " 'b059ab70a2994712a6c088e2dc636cba',\n",
       " 'bc1037559bbb4385ae9814a4021ff839',\n",
       " '94fe10c2de9c4d4e84622ce0eaa716c9',\n",
       " '6b8ebfbbf18e4457b7c8c102bc4ac875',\n",
       " '7afa86ed1f284e81943e202d317cba53',\n",
       " '78507ce320f9492ab8fe650faa8f1a43',\n",
       " '1e5579f4028d47ec873e0584a4671f37',\n",
       " 'ab2c8498e5764a508c4345c97d38ec30',\n",
       " '466a4f1d72b4429a94ce947fa3ae6665',\n",
       " '23a1da57edb1484d9402f96ba5e42183',\n",
       " 'cfcd621a203f475a931adc8ed2fc28e7',\n",
       " '4b7404ae77a6498a8cbe557a9317d291',\n",
       " '9476e0cf735f4056a7f28b111f7060b3',\n",
       " '787dbc24b4b9443385520c62a97a7b60',\n",
       " '3faf894ff1474480952be6416b921e0d',\n",
       " 'a01636e5f32b4dbdb8fc77f5f7b980b5',\n",
       " '9ec0b0304d0449c29a2a70002f9afcee',\n",
       " '7713d4e5f166424fa331f983fc48d23f',\n",
       " 'fef5de50ab6246e5a4e4cd631f08631e',\n",
       " 'e146f8ca562b4954aa8746c175e87adf',\n",
       " '875a38137e77441682ee71d854ff1ac2',\n",
       " '76a6a68849cc439f907b4e23da9fb2a3',\n",
       " '9c5a07af81394bb9a95a3e716fcf5c6d',\n",
       " '2e324ffba56d4d95a53b002745597e9b',\n",
       " '5d9d514ee5284a0ab47682116b7c352c',\n",
       " '75483ff82de64a8c9218ac0572d5efcb',\n",
       " '6b0a8983257a47498eb46f1c65389912',\n",
       " 'caad4d8cdc384b45ab6156707a370d55',\n",
       " 'd506d691888542ab980380842e03f161',\n",
       " '5839388b3efb4efebc411373a0f573f6',\n",
       " 'ab8ebf8d888c461cb5b25cba9da0bcb4',\n",
       " '85fa4177ec5d47a58e604642380f5189',\n",
       " 'c944b8a782b547c6bd2bfc6ad37d903f',\n",
       " 'a1db96595273447f853e683160ca4728',\n",
       " 'ed2f2828cadf46a6a48b59ad1e6b8a99',\n",
       " 'f8a708e3dfc74d9a89c5a5f4d9eb1aa5',\n",
       " '8f4f026bece141f3bc473dd206a6b06d',\n",
       " 'c5e600952b1a4b3f8587a5b4caa25210',\n",
       " 'c8d64cd52bdf424e9cf446d6b9c68437',\n",
       " 'e63ff31ed358449ca6b99c1654fb0340',\n",
       " '4308218678ec4532ae1ce44467494ddf',\n",
       " '78c8bbcd9a464d72a7beeb6cae45800b',\n",
       " '528f42b270ee41dc8b97536ba7eb302c',\n",
       " '4f7d9f273220401fb7d4d9a7f83f3c0d',\n",
       " '18ad37400253423f8b93051cb6776cb8',\n",
       " 'c6d049ca620c4cb7873388d14f13bf0d',\n",
       " 'daf012a1d9614cd0982b1dde396bee34',\n",
       " '1d010d8119764183a736452ca140cdb1',\n",
       " '3432f5f255ce4a92ab043c0be2490527',\n",
       " '106532b83902422093dd300e7fac3f4b',\n",
       " '126c9a8547e54085847ddec371e4d919',\n",
       " 'd9a0ca99e2d347628c001e618d01333d',\n",
       " '548df91f2b1b419abdcfc373af2cd143',\n",
       " 'fef3d88abf204c2ba6760257f220a258',\n",
       " '16514214e54441ea8daaf4548508320c',\n",
       " '49af48318d9c4113b9dbd105e60329e2',\n",
       " '3b6172f552cc4cc294bf779b574ee329',\n",
       " 'ac425413a2a04c87a6cd412dd32bf847',\n",
       " '5f648d9aecb54e319b5cfdfc8a854566',\n",
       " '14528eaa4ccc407da293dfe26a0077f2',\n",
       " '058559d8334544498ad7abd2b87dee51',\n",
       " 'e2f3337d18144482ba17ae3b426a24ed',\n",
       " '8ad599a7a96943398b78e87162c196af',\n",
       " '5aa1992f8bfd494d82dcae55b09f2fa0',\n",
       " '4449b5d03e9d47c29df1f36df2aa02c4',\n",
       " 'eef87ea3667d4d6398d3cbf01376297c',\n",
       " 'a130a555a361400cbe28e9a3973093b1',\n",
       " '7041c16ee293468b9f3ba4a6d808f550',\n",
       " '00ea77a55dad44f48c83e4f16868eb79',\n",
       " '46a4c9d3443147e597b5253478e22c44',\n",
       " '0c1756d32806425cb823999d277df983',\n",
       " 'b3304cf860ab4e89be9d6d7b2e8e5c1c',\n",
       " '7d3dfa6ac53f4405b67de8e8e3c24289',\n",
       " 'a84715ce46fe4477b01fab449c2a899e',\n",
       " '48c8fe3930964148ae13b944c7b417c8',\n",
       " '53f3a33c7b294a849f120819f61d945f',\n",
       " '428b70978a6b4739a8983e83d2104008',\n",
       " '5becd7ec519a4caa9a772297fe96a8f3',\n",
       " 'ff904b5da6944b26b3341d6554bea61b',\n",
       " '2f0d37b280ba4356be614d8133046521',\n",
       " 'a2b6849e95c64a4394c3ff8346e9e70c',\n",
       " 'd6f446de8105488bbef2a11ae9f9f1c1',\n",
       " 'da4ea32837ce4120b61143810c7ac736',\n",
       " 'e103a817807a4619b28f90bb6e7d01f2',\n",
       " '67295054df8d417090d6cf69a3eaf0ca',\n",
       " 'c39045e5fab2483b9955a863ce355f7f',\n",
       " '66ca865973144a5ebcbc160f520e8c35',\n",
       " '44162ed8a5f648d2b72b774f981dfe2a',\n",
       " '064b3ba90e3d4f78b303afb6258fb612',\n",
       " 'e180df274d5342958a874d629e72230a',\n",
       " 'b2e6b7807bad4d1883217e583f1274a0',\n",
       " '08fa904918074049ab9a43214f426a69',\n",
       " '1832375407db4d45a60d6a67826e017b',\n",
       " '882f06f10ddd41c39302324aae00a7f0',\n",
       " '715d78f101654c94b80c1159c95fda4e',\n",
       " 'b349c379577e4fb29e156833d99d306f',\n",
       " 'c1e3e0602ca3490e95fbd7aafcfb9263',\n",
       " 'dbca1b8f74064188ad83a19689b7febc',\n",
       " '4a7a97e3ca1541ef92e2e702bc7b13e3',\n",
       " '6b5fc9650e6249f3a808625e4a9750b5',\n",
       " '672a6a93c89b4f46b0d1ec1ef8c7aa11',\n",
       " '5e699c91b073451897ecba783df1b7be',\n",
       " '7bff270d2e9043d9ac9b42600be78318',\n",
       " '7ee9df90d20f43c9b007cd6082258bf8',\n",
       " '6609ecc1dbb64e06a748c3460b410570',\n",
       " 'faf646db4b28458ba9fcf657823b9b92',\n",
       " '1c71ed26edc94874b74b29ac71fb46d1',\n",
       " '8c1641702492429e85b6d0ab00edf98c',\n",
       " '7d71a7be33064d5bb4217c37e284ae9a',\n",
       " '217bedfcc09c4a51ab4320ac1c8df4c1',\n",
       " '22f4211de5ac48bc8de64255cba836f6',\n",
       " 'e63c5d95354a4a0d8ce23485a868c1ee',\n",
       " '6983d4b1f1f5477a8773a7ce01bd4ced',\n",
       " '43ed2c3398094cbe8b646a8cff7862c6',\n",
       " '86772ac43cf84363bd5e42c4c64f623a',\n",
       " 'ead94cfbc98a4f83b14df9147df24078',\n",
       " 'a1e6e8364f214b678ab5c72ccb1b1bed',\n",
       " 'b921f73b55814cba9d3fc80c88fbea4d',\n",
       " 'f497681fe1ce48f783a389ff2013b141',\n",
       " 'd8314bab25d04dd0be472f75280d0753',\n",
       " 'e6c8e44a53424c9e9e8550e32fa23060',\n",
       " '8b87d2454c564e63bcaf23a8f538e846',\n",
       " '9d9cb7dfcef14f45a8912746867b715a',\n",
       " '41c607cca7c84d42b28cd9209590c002',\n",
       " '220e880a3b504015b9a272c0753ea947',\n",
       " 'c10608e7cdd745d58a1ca2371a9056b1',\n",
       " '72fc0132e04441288771760006ebb99c',\n",
       " '194f03e348d44e3598439084cc49be7d',\n",
       " '124d01cd3b6d4ff381b1cb42f1cb283c',\n",
       " 'b9d90622a8634322bdf9e558e736c0e6',\n",
       " 'f4493e2569e04751995c35a9d2750e58',\n",
       " 'fbb371945e43475caf81dbf4ffc9e8a5',\n",
       " '1c37ced5abc44e38b45fee9210ab7b6f',\n",
       " '4ba80ea17cf3477e9f169cab8306c539',\n",
       " '4cc27d2041cb473f816e3642e2fedd30',\n",
       " '8bd3767b6b934ccb9da37979dcd638e4',\n",
       " '3186ab8c8e9e462b8712b6feaa27d9f7',\n",
       " 'cfa79599f50e4ff09f4e10577e7f4de2',\n",
       " '4951157e2c7347bf9117b5eaac68606f',\n",
       " '5ec249ed0da64f95b7c2de676832aac1',\n",
       " '721a8e45724949b986fa6a7c7d2652ef',\n",
       " '33281ecde96641cda0389afe9b6616bd',\n",
       " 'ef69a923b7d243ca8f8037e1f7fda3b6',\n",
       " '605b78dc15bd4894a501b12616ce4366',\n",
       " '419ac42f047e4e99af39e0d8c3b4af26',\n",
       " '0e953a92ce914e4e979dc2c8d5de8ff1',\n",
       " '195eb1830753401dab86e63d73faf6f4',\n",
       " '639e8bd91b604663a7da54b5f2b8cdf8',\n",
       " '519de4f96e7a44c3af8c423466bca31c',\n",
       " '29beeee9dc0c4cc4a955fabb1a5c6f96',\n",
       " '0560771757c94bc1adae6e740542a02a',\n",
       " 'e1835b92ee524d53a116ce7f7c96e7b7',\n",
       " 'f8a3b57eb6494682ba3d2edbcc74206a',\n",
       " 'bf8ff28c98e44a0e87b802cbedcbe9af',\n",
       " 'cd72117bb0a84cb6a432c2c9f6bf943c',\n",
       " '1de769c15199483e8b91b153da15d8a2',\n",
       " 'deeffe5da3fd494895e78a2763e1c359',\n",
       " 'eb2bb8e4f9764e638e85a5b6f7913bd4',\n",
       " '4f21f532994d436fa6fc965173510495',\n",
       " '1c2f9474ce6342c5806caee4abccdad7',\n",
       " 'a30e7be23c70475dba08e67cda257e42',\n",
       " '83c1463741b14dee9f4a95424ccbfccc',\n",
       " 'dca6086f1fce4c5e95cad8006d26131a',\n",
       " 'adaf7625fad84e20a709e9cd5571d705',\n",
       " 'f0f295f1f645466b9c3a73046ded7754',\n",
       " 'd54bf1179ed24f539c7ecb52b6d44964',\n",
       " '6fd8081e35784a828a57dc020788cc7e',\n",
       " 'caeb756207244a609910f33da545756e',\n",
       " '078ea160d4df489b939a8f6687c2855a',\n",
       " '655b073d68b042cc93d1aee524b9eef0',\n",
       " '5fa4d33d1318420793cb23e3377cf6c8',\n",
       " 'e5dcef492f784ce3b1dc90b8d0c19842',\n",
       " '54836ad8d7854e138861949789210899',\n",
       " 'd9efd779b60e4f0493fdbef5b428e071',\n",
       " 'fe4b7cdbdc104083b74db9a01d7a7e94',\n",
       " '7ddd3d54df9a4c86a2e0189c21e01380',\n",
       " '996eaed555db44c1837f69974ed797a6',\n",
       " 'b47758f64c1147aa91001b3d337035e3',\n",
       " 'afd1f3b8774249ed826223fdffcd9893',\n",
       " '9355af11e3b14b08b2936c39b2032387',\n",
       " '66389cca88194fb89f147652eb0ebd72',\n",
       " 'd7c0912f8d034affb03e9d841588a7ea',\n",
       " '9dad35bc0d31463783e8bc74f21a2a00',\n",
       " 'b9b7d9eea7744656b800e56484c4e591',\n",
       " '1d9649869b2a4482b82947e618799c59',\n",
       " '90ee1a62735c4c2aaf60bd7395880568',\n",
       " '233125bfe39d4bcf927035e2a299f2ca',\n",
       " '552e0d0e6cf240bdb0c4db9694c9fc1d',\n",
       " '977acc5cebee48bb8ffa490312bc0947',\n",
       " '0471732021f04f698335c5dbed551dfb',\n",
       " 'e3a2a1f185b8437da8905b9564e76107',\n",
       " '946bc4775bcd41ef9d37ee8493c066f6',\n",
       " 'e8b9bcb53bee475f87a34cb0edf23b73',\n",
       " '88142bd519e147b5905011069378f970',\n",
       " '8c559ff2279340138fb4a9a5e252cf70',\n",
       " '0b4a09af1bba4ba98a23e5be0768ffe0',\n",
       " '4d88dbcf482046c5ada1c0e212ab21fc',\n",
       " 'd90d354ed3c0497998f6e9e65f694792',\n",
       " 'f08dd5c0f7924ac9b5583e3a7affe8b3',\n",
       " 'a695a0c322f14a0e848786daa27348a2',\n",
       " '8bdae0d756af486793ffd56f4197d1ef',\n",
       " 'ca4a4eee4ba9425793210d4daabcd6bb',\n",
       " '5cc15d781e0b4976a42f1dc0c6c2e51e',\n",
       " '8afc44f82e494dfcb32f69c34b3cb738',\n",
       " '5ee0c1e6007343d48c60c3755bf7fc08',\n",
       " 'd29b1be875bc42ca87cce6801a8576c9',\n",
       " 'dbd1dda80c9740c8934ad14362549677',\n",
       " '0c2867bca0e2418c8ff5a9a802869434',\n",
       " 'b1407d755227432b827da6e76b398aa3',\n",
       " '0b516bd659614bb889f21f9ebcb7cea6',\n",
       " '5c65c08751cb4351b65ece4a6e982d86',\n",
       " '26bed5b7f7ac46549f5e6a7e825442cb',\n",
       " '28d8cf5805c74be29e88b310ea906d79',\n",
       " 'b96337ab5c594edbbacd7df9fe707978',\n",
       " 'de7fe31cd3964f548f0bc5f381e39f5f',\n",
       " 'b66d2df3dbbc415b83f4aaecf7028acd',\n",
       " '0d591c369e1f4421b09540b863708c5d',\n",
       " 'b7460a5bcd044983962d3e9e77a515d5',\n",
       " 'd5159ae44d474c78aeafa81a81f93a59',\n",
       " '9fcb19722b0a4601b09d3799d49467fb',\n",
       " 'e707fe75f0f049aabca4a1d53d10dc88',\n",
       " '4f72558ab5e9499295bf803f75a86dd4',\n",
       " '34c0d9e1c0e74032949f208bafcaf869',\n",
       " '8ef77e73a7c4489f8c1acc64d691d3d5',\n",
       " '255410b581004db38dd2a3626ea9e258',\n",
       " '0e91fdee56d84a8d833b9b99bbfccfb1',\n",
       " '35236d5e10d74505988920cff920a46e',\n",
       " 'a60582811c3d45c8a205feb006882105',\n",
       " 'ddc98fad23d3440ea0055161a2e90860',\n",
       " '63a4da7494874b079eb6a5b9166dbd10',\n",
       " 'c05c249626ab4d6480e17ce266e5a3f9',\n",
       " '124f2d7f7012453e957c765294782763',\n",
       " '142cf82a02564696acbac477c44df366',\n",
       " '16722d2cf74c4c108fa1612006d1a13c',\n",
       " 'fe783fcdb5594a97ba5bd44c98511058',\n",
       " '7d04be053f5e48e08cf7f70cde2a37b2',\n",
       " 'f9f2e599183048d7a7348e739c832d2a',\n",
       " '8efb54d7d63541afbc010d0eb70937ae',\n",
       " '9b1926e7ddc84bdda0f3365318bc5445',\n",
       " '61be7062686f4bf498ed0408020b64ac',\n",
       " '75754eca5dea4532bf029e529c93f118',\n",
       " '3292118685bb49d89a8fc4425d141371',\n",
       " 'c0720428aa144fd381bf93751501c759',\n",
       " 'd5bacb919bad48f98978b10da88501b3',\n",
       " '3a34707666994e6c9c02a22d574caff6',\n",
       " '1e3c2cd70ac34881b0224cd9ee719baa',\n",
       " '114747ab458d47529a113aaf89a73699',\n",
       " 'd396f9f0920e44d9b408945c50bde8b4',\n",
       " '9e33739b76c742ccb8f6892cae8df76b',\n",
       " 'a620259685c344d981d8a65e3f4bbf3d',\n",
       " 'd0ea49ac282443c69b49211ed32ff660',\n",
       " '3faa1ecaa99a4e91ad06ec383432cc09',\n",
       " '42a74f71763d4ebf856e0bf5fb2a0846',\n",
       " '11fd446dba6243fbaf64efeb90f9e9e6',\n",
       " 'e8f4c1f36997499f83fdab0f5786fdf5',\n",
       " '83a500c26cc844db9482bf264d686076',\n",
       " '5fdb794199984d60bd27cf5c8f728066',\n",
       " 'b31dd369bf5d4cefa2fd789a6248fb43',\n",
       " 'f332e677e3bc4e79b14eb232da600b8d',\n",
       " '0bb4f533f3754298b6fc92ddc2d6c1a2',\n",
       " '5d7a87edac7146ab945a0bfb2e56187f',\n",
       " '6b2c13e15579472593d00bb04b77909e',\n",
       " '6f31e017507a4afb87ec651a00696388',\n",
       " 'e8366657d4124a4ea23b58f5d0de59a9',\n",
       " '33b0d807b64542eb927d298d10890d15',\n",
       " '6f9aa343df394f75b50e747aaf4ca382',\n",
       " 'fc2ff92203404fcc8a11cf7b054300aa',\n",
       " 'a99c2bec22014837a97094fbecef80b4',\n",
       " 'f33d618f47174ca5a222b9493d2f75c9',\n",
       " '1591b91caf074c75bb05ac18b8cd66d8',\n",
       " '0f132c26c819456ba472ce42ac3c653e',\n",
       " 'f89f222b868149d8ab255bda459c04af',\n",
       " 'e5e2c23106164a6792f410396e12efef',\n",
       " '20d8518a3f9046c38b2c1411a85372b1',\n",
       " '2503eb69b80a46fa89ac4140428ca6a8',\n",
       " 'b67b5c2bc84b4312bde92d1f2b5b00e4',\n",
       " 'b1eb2cadb8e446ceb32319806686ad1b',\n",
       " 'fb5a54b5aa724829916ab10075ca86d3',\n",
       " '3f7338b3a32044df935a1ff91a691169',\n",
       " '3f291e297ecd4ecd9322fd1edde7d291',\n",
       " '9ea16b41920a449baa02d85ec24c32c5',\n",
       " '6114d1b5dbed458d92537e5a7248b255',\n",
       " '6331d251aa014546a07e3cf86da52e68',\n",
       " 'e1c12d989d244e44b1b83fa58d004c19',\n",
       " '74cff02de6ad47c7a07aafae3d67fa17',\n",
       " '6cc194c9f2134c0e8d2fc29546313604',\n",
       " '3e3e1c09af414a4784db770b9f88afcc',\n",
       " 'ae2bc10f02d14aa18fb5bb5a47da8706',\n",
       " 'a6a30e782f994df3ada05e5c2c36b112',\n",
       " 'f1990aef79d9499b873b5aff59dd8aaf',\n",
       " '9dc3cb030eab40bdaba795e8184b14bb',\n",
       " '075ddaa620934ab3b16d8ffde4ac25cd',\n",
       " '6a45a2e3846945bf92d9669c8c7b9422',\n",
       " '49c6b907910b47958d51aa30eeff2cc8',\n",
       " '4d4c4f02d7a74d01aa055ce1aaedb073',\n",
       " '8185bb42c83d4de080b185bd63d3b365',\n",
       " 'e1430b4e2fd54e16a4d7d07969a0c75a',\n",
       " '66a904b1899445c3867b4629eaa55aae',\n",
       " 'fc70694fc0704486bc26bad424418d7a',\n",
       " '8ff292087ee44ed497fb9e6e298c614d',\n",
       " 'bf4acbae58fd459d84fdc53090d1f54d',\n",
       " 'bec84bba955b49448562f6a7dd01d96a',\n",
       " 'ee3b1f091f1543279a15edcd698a0941',\n",
       " 'f3c1c71936d24f2685c2bd1efe35845a',\n",
       " '34c63a7cb9fc4e48adf042f4eac28092',\n",
       " 'ab64cd653d2e488bb487c16bef2bee5c',\n",
       " '1e6c7fd4b8784f50a3422ddbf3e5888f',\n",
       " 'd5b7bcf735714b51b282e72cbaea8090',\n",
       " 'f674fc7d77834ff8b7b74ad8436915b6',\n",
       " 'ef45501fcd774ba9b5ab7c88fbc16121',\n",
       " '622abd73cf3f48518b33752d12de8aff',\n",
       " '9769af8b6b8c49b7ada17a7291429ee3',\n",
       " 'ee90d35f585649ffb8bb7bb6cb92cb64',\n",
       " 'ae2dc5f030bb4112875af7efd8ae5747',\n",
       " '649680e6382642669c299a246c80a7a2',\n",
       " 'bcca7589828c40cdab5cb3eb675b8603',\n",
       " '3274b362bc3845c2b1e8e5f9ea6146db',\n",
       " '64672eae3ed74744badb2803ae2a60ad',\n",
       " '83c91d925cd148669d181a0c6a0be602',\n",
       " 'fc1e2548499d4df283784b87395249d1',\n",
       " 'eaf1fe4b5b664761beb146d7a6718df1',\n",
       " '076d0ee05a5d46cf9c6aad47ea5de93a',\n",
       " '5c92c5c6ea4a4cd7b3e7c5db08556acb',\n",
       " '6aad39cd794d4c24984b2e6bb504b5fe',\n",
       " '0796bd4a59c049878deb9adb0de1aeb4',\n",
       " 'a35b1b215161414b9ffcb5d331b58add',\n",
       " '0f8d05cb558e4aa7a0580ea3f6b63652',\n",
       " 'ce5abbe35edf4151abfacea4c53b83ca',\n",
       " 'd93aef55f46b4735b04b4332bce4cb54',\n",
       " 'f9674257d62143bb956b38278e06cd32']"
      ]
     },
     "execution_count": 62,
     "metadata": {},
     "output_type": "execute_result"
    }
   ],
   "source": [
    "qdrant.add_documents(\n",
    "    docs\n",
    ")"
   ]
  },
  {
   "cell_type": "code",
   "execution_count": null,
   "id": "7f173228-5c0b-4e3b-bba1-d7e1c2e872c8",
   "metadata": {},
   "outputs": [],
   "source": []
  },
  {
   "cell_type": "code",
   "execution_count": null,
   "id": "0355359f-1d21-4dfc-af2a-76bb4094650c",
   "metadata": {},
   "outputs": [],
   "source": []
  },
  {
   "cell_type": "code",
   "execution_count": null,
   "id": "441f84f9-74bf-4b5d-ab92-9318e04da8a5",
   "metadata": {},
   "outputs": [],
   "source": []
  },
  {
   "cell_type": "code",
   "execution_count": null,
   "id": "f018fb08-4176-477a-81a6-2230d3539679",
   "metadata": {},
   "outputs": [],
   "source": []
  },
  {
   "cell_type": "code",
   "execution_count": 65,
   "id": "bca678ec-cacc-4a90-9ce9-9f7f9aae8952",
   "metadata": {},
   "outputs": [
    {
     "data": {
      "text/plain": [
       "True"
      ]
     },
     "execution_count": 65,
     "metadata": {},
     "output_type": "execute_result"
    }
   ],
   "source": [
    "from langchain.chat_models import ChatOpenAI\n",
    "from langchain.chains.conversation.memory import ConversationBufferWindowMemory\n",
    "from langchain.chains import RetrievalQA\n",
    "import os\n",
    "from dotenv import load_dotenv\n",
    "\n",
    "load_dotenv()"
   ]
  },
  {
   "cell_type": "code",
   "execution_count": null,
   "id": "06e04dcf-f3dc-4a19-83ad-01acd32d287a",
   "metadata": {},
   "outputs": [],
   "source": []
  },
  {
   "cell_type": "code",
   "execution_count": 75,
   "id": "13a794fe-f183-499f-be35-0f707be4b962",
   "metadata": {},
   "outputs": [
    {
     "name": "stderr",
     "output_type": "stream",
     "text": [
      "WARNING! deployment_id is not default parameter.\n",
      "                    deployment_id was transferred to model_kwargs.\n",
      "                    Please confirm that deployment_id is what you intended.\n"
     ]
    }
   ],
   "source": [
    "deployment_name = os.getenv('AZURE_DEPLOYMENT_NAME')\n",
    "\n",
    "# chat completion llm\n",
    "llm = ChatOpenAI(\n",
    "    model_name='gpt-3.5-turbo',\n",
    "    temperature=0.0,\n",
    "    deployment_id = deployment_name\n",
    ")\n",
    "# conversational memory\n",
    "conversational_memory = ConversationBufferWindowMemory(\n",
    "    memory_key='chat_history',\n",
    "    k=5,\n",
    "    return_messages=True\n",
    ")\n",
    "# retrieval qa chain\n",
    "qa = RetrievalQA.from_chain_type(\n",
    "    llm=llm,\n",
    "    chain_type=\"stuff\",\n",
    "    retriever=doc_store.as_retriever()\n",
    ")"
   ]
  },
  {
   "cell_type": "code",
   "execution_count": 76,
   "id": "fcb90eb8-3aa5-49a8-b869-84b6bcda9059",
   "metadata": {},
   "outputs": [
    {
     "data": {
      "text/plain": [
       "\"Azure OpenAI Service is a service provided by Microsoft Azure that gives users access to OpenAI's language models, including the GPT-3, Codex, and Embeddings model series. It also includes the new GPT-4 and ChatGPT (gpt-35-turbo) model series. These models can be used for tasks such as content generation, summarization, semantic search, and natural language to code translation. Users can access the service through REST APIs, Python SDK, or a web-based interface in the Azure OpenAI Studio. The service also includes features such as virtual network support, private link support, and managed identity via Azure Active Directory.\""
      ]
     },
     "execution_count": 76,
     "metadata": {},
     "output_type": "execute_result"
    }
   ],
   "source": [
    "query = \"What is Azure OpenAI Service?\"\n",
    "\n",
    "qa.run(query)"
   ]
  },
  {
   "cell_type": "code",
   "execution_count": 77,
   "id": "327afe55-67e8-46f5-a1f5-aeda52e2d2fe",
   "metadata": {},
   "outputs": [],
   "source": [
    "sample_questions = [\n",
    "\"What is Azure OpenAI Service?\",\n",
    "\"Difference between Azure OpenAI and OpenAI\",\n",
    "\"What are limits and quotas for Azure OpenAI\",\n",
    "\"How many and what models are available Azure OpenAI\",\n",
    "\"Does Azure OpenAI support GPT-4?\"\n",
    "]"
   ]
  },
  {
   "cell_type": "code",
   "execution_count": 79,
   "id": "b4c62295-078d-4f9b-a4d2-63f488b25caf",
   "metadata": {},
   "outputs": [
    {
     "name": "stdout",
     "output_type": "stream",
     "text": [
      "> What is Azure OpenAI Service?\n",
      "Azure OpenAI Service is a service provided by Microsoft Azure that gives users access to OpenAI's language models, including the GPT-3, Codex, and Embeddings model series. It also includes the new GPT-4 and ChatGPT (gpt-35-turbo) model series. These models can be used for tasks such as content generation, summarization, semantic search, and natural language to code translation. Users can access the service through REST APIs, Python SDK, or a web-based interface in the Azure OpenAI Studio. The service also includes features such as virtual network support, private link support, and managed identity via Azure Active Directory.\n",
      "\n",
      "> Difference between Azure OpenAI and OpenAI\n",
      "Azure OpenAI is a service provided by Microsoft that gives customers access to OpenAI's language models, including GPT-3, Codex, and DALL-E, with the added security and enterprise promise of Microsoft Azure. Azure OpenAI co-develops the APIs with OpenAI, ensuring compatibility and a smooth transition from one to the other. Azure OpenAI also offers private networking, regional availability, and responsible AI content filtering. \n",
      "\n",
      "OpenAI, on the other hand, is an independent research organization that focuses on developing and advancing artificial intelligence in a safe and beneficial way. OpenAI develops and trains language models, including GPT-3, and makes them available to researchers and developers through APIs and other tools. OpenAI does not provide the same security and enterprise features as Azure OpenAI, but it is not limited to Microsoft Azure and can be used with other cloud platforms.\n",
      "\n",
      "> What are limits and quotas for Azure OpenAI\n",
      "Azure OpenAI has default quotas and limits that apply to its services. These include limits on the number of OpenAI resources per region per Azure subscription, default quota per model and region (in tokens-per-minute), maximum prompt tokens per request, max fine-tuned model deployments, total number of training jobs per resource, max simultaneous running training jobs per resource, max training jobs queued, max files per resource, total size of all files per resource, max training job time, and max training job size. These limits are subject to change and can be managed through Azure OpenAI's quota feature.\n",
      "\n",
      "> How many and what models are available Azure OpenAI\n",
      "Azure OpenAI provides access to several language models, including the GPT-3 base series, Codex series, and Embeddings series. Additionally, the service now supports the GPT-4 series and ChatGPT (gpt-35-turbo) model series. For more information, you can check out the Azure OpenAI Models page.\n",
      "\n",
      "> Does Azure OpenAI support GPT-4?\n",
      "Yes, Azure OpenAI does support GPT-4. It is available in preview and can be accessed by existing Azure OpenAI customers by filling out a request form. The GPT-4 model is optimized for chat and traditional completion tasks and supports up to 8192 max input tokens. Additionally, there is a GPT-4-32k model available that supports up to 32,768 tokens.\n",
      "\n"
     ]
    }
   ],
   "source": [
    "for question in sample_questions:\n",
    "    print(\">\",question)\n",
    "    print(qa.run(question),end=\"\\n\\n\")"
   ]
  },
  {
   "cell_type": "code",
   "execution_count": null,
   "id": "f973f390-b62b-45f2-a9c3-e07c3c0c82db",
   "metadata": {},
   "outputs": [],
   "source": []
  },
  {
   "cell_type": "code",
   "execution_count": null,
   "id": "b9ea4bca-5829-4300-8575-c0b3fb431b11",
   "metadata": {},
   "outputs": [],
   "source": []
  },
  {
   "cell_type": "code",
   "execution_count": null,
   "id": "85f5ded6-2535-45e0-be5b-0c2ab1f8dd82",
   "metadata": {},
   "outputs": [],
   "source": []
  },
  {
   "cell_type": "code",
   "execution_count": 80,
   "id": "c511eed8-7fc4-4ce9-94c9-a87725889400",
   "metadata": {},
   "outputs": [],
   "source": [
    "from langchain.agents import Tool\n",
    "\n",
    "tools = [\n",
    "    Tool(\n",
    "        name='Knowledge Base',\n",
    "        func=qa.run,\n",
    "        description=(\n",
    "            'use this tool when answering queries about azure openai documentation to get '\n",
    "            'more information about the topic'\n",
    "        )\n",
    "    )\n",
    "]"
   ]
  },
  {
   "cell_type": "code",
   "execution_count": 107,
   "id": "91921da0-1974-4734-8939-149f946f6e74",
   "metadata": {},
   "outputs": [],
   "source": [
    "from langchain.agents import initialize_agent\n",
    "\n",
    "agent = initialize_agent(\n",
    "    agent='chat-conversational-react-description',\n",
    "    tools=tools,\n",
    "    llm=llm,\n",
    "    verbose=True,\n",
    "    max_iterations=3,\n",
    "    early_stopping_method='generate',\n",
    "    memory=conversational_memory\n",
    ")"
   ]
  },
  {
   "cell_type": "code",
   "execution_count": 108,
   "id": "645d5452-05e5-4c72-b196-d2584af7f9b1",
   "metadata": {},
   "outputs": [],
   "source": [
    "import json"
   ]
  },
  {
   "cell_type": "code",
   "execution_count": 109,
   "id": "33cf728f-b04e-45d3-a5a3-69427d4856de",
   "metadata": {},
   "outputs": [],
   "source": [
    "def getResponse(query):\n",
    "    response = agent(query)\n",
    "    print(\">\",response['input'])\n",
    "    print(response['output'])"
   ]
  },
  {
   "cell_type": "code",
   "execution_count": 110,
   "id": "aad7acd1-88fd-4392-8fda-2d8f17883c02",
   "metadata": {},
   "outputs": [
    {
     "name": "stdout",
     "output_type": "stream",
     "text": [
      "\n",
      "\n",
      "\u001b[1m> Entering new  chain...\u001b[0m\n",
      "\u001b[32;1m\u001b[1;3m```json\n",
      "{\n",
      "    \"action\": \"Knowledge Base\",\n",
      "    \"action_input\": \"What is OpenAI?\"\n",
      "}\n",
      "```\u001b[0m\n",
      "Observation: \u001b[36;1m\u001b[1;3mOpenAI is a research organization that focuses on developing artificial intelligence in a safe and beneficial way. They work on developing advanced language models, such as GPT-3 and GPT-4, which can be used for tasks such as content generation, summarization, semantic search, and natural language to code translation. Azure OpenAI Service provides REST API access to OpenAI's language models.\u001b[0m\n",
      "Thought:\u001b[32;1m\u001b[1;3m```json\n",
      "{\n",
      "    \"action\": \"Final Answer\",\n",
      "    \"action_input\": \"OpenAI is a research organization that focuses on developing artificial intelligence in a safe and beneficial way. They work on developing advanced language models, such as GPT-3 and GPT-4, which can be used for tasks such as content generation, summarization, semantic search, and natural language to code translation. Azure OpenAI Service provides REST API access to OpenAI's language models.\"\n",
      "}\n",
      "```\u001b[0m\n",
      "\n",
      "\u001b[1m> Finished chain.\u001b[0m\n",
      "> What is OpenAI\n",
      "OpenAI is a research organization that focuses on developing artificial intelligence in a safe and beneficial way. They work on developing advanced language models, such as GPT-3 and GPT-4, which can be used for tasks such as content generation, summarization, semantic search, and natural language to code translation. Azure OpenAI Service provides REST API access to OpenAI's language models.\n"
     ]
    }
   ],
   "source": [
    "getResponse(\"What is OpenAI\")"
   ]
  },
  {
   "cell_type": "code",
   "execution_count": 111,
   "id": "3fc17121-bdd7-4164-a66d-8c1bdf2867d8",
   "metadata": {},
   "outputs": [
    {
     "name": "stdout",
     "output_type": "stream",
     "text": [
      "\n",
      "\n",
      "\u001b[1m> Entering new  chain...\u001b[0m\n",
      "\u001b[32;1m\u001b[1;3m```json\n",
      "{\n",
      "    \"action\": \"Knowledge Base\",\n",
      "    \"action_input\": \"Azure OpenAI\"\n",
      "}\n",
      "```\u001b[0m\n",
      "Observation: \u001b[36;1m\u001b[1;3mAzure OpenAI Service is a service provided by Microsoft that allows users to access OpenAI's language models, including the GPT-3, Codex, and Embeddings model series. It also includes the new GPT-4 and ChatGPT (gpt-35-turbo) model series. These models can be used for tasks such as content generation, summarization, semantic search, and natural language to code translation. Users can access the service through REST APIs, Python SDK, or a web-based interface in the Azure OpenAI Studio. It also includes features such as virtual network support, managed identity, and content filtering.\u001b[0m\n",
      "Thought:\u001b[32;1m\u001b[1;3m```json\n",
      "{\n",
      "    \"action\": \"Final Answer\",\n",
      "    \"action_input\": \"Azure OpenAI Service is a service provided by Microsoft that allows users to access OpenAI's language models, including the GPT-3, Codex, and Embeddings model series. It also includes the new GPT-4 and ChatGPT (gpt-35-turbo) model series. These models can be used for tasks such as content generation, summarization, semantic search, and natural language to code translation. Users can access the service through REST APIs, Python SDK, or a web-based interface in the Azure OpenAI Studio. It also includes features such as virtual network support, managed identity, and content filtering.\"\n",
      "}\n",
      "```\u001b[0m\n",
      "\n",
      "\u001b[1m> Finished chain.\u001b[0m\n",
      "> What is Azure OpenAI\n",
      "Azure OpenAI Service is a service provided by Microsoft that allows users to access OpenAI's language models, including the GPT-3, Codex, and Embeddings model series. It also includes the new GPT-4 and ChatGPT (gpt-35-turbo) model series. These models can be used for tasks such as content generation, summarization, semantic search, and natural language to code translation. Users can access the service through REST APIs, Python SDK, or a web-based interface in the Azure OpenAI Studio. It also includes features such as virtual network support, managed identity, and content filtering.\n"
     ]
    }
   ],
   "source": [
    "getResponse(\"What is Azure OpenAI\")"
   ]
  },
  {
   "cell_type": "code",
   "execution_count": 112,
   "id": "f1cac766-f857-4d64-851d-bcc30e3f0d31",
   "metadata": {},
   "outputs": [
    {
     "name": "stdout",
     "output_type": "stream",
     "text": [
      "\n",
      "\n",
      "\u001b[1m> Entering new  chain...\u001b[0m\n"
     ]
    },
    {
     "name": "stderr",
     "output_type": "stream",
     "text": [
      "Retrying langchain.chat_models.openai.ChatOpenAI.completion_with_retry.<locals>._completion_with_retry in 1.0 seconds as it raised Timeout: Request timed out: HTTPSConnectionPool(host='acchackathonopenai01.openai.azure.com', port=443): Read timed out. (read timeout=600).\n"
     ]
    },
    {
     "name": "stdout",
     "output_type": "stream",
     "text": [
      "\u001b[32;1m\u001b[1;3m{\n",
      "    \"action\": \"Knowledge Base\",\n",
      "    \"action_input\": \"How can I use GPT-3 model of Azure OpenAI?\"\n",
      "}\u001b[0m\n",
      "Observation: \u001b[36;1m\u001b[1;3mThe article mentions that GPT-4 models are currently only available by request, but GPT-3 models are available for use. To use the GPT-3 model, you need to have an Azure subscription and access to Azure OpenAI in that subscription. You can apply for access to Azure OpenAI by completing the form at https://aka.ms/oai/access. Once you have access, you can navigate to Azure OpenAI Studio at https://oai.azure.com/ and sign in with credentials that have access to your OpenAI resource. From the Azure OpenAI Studio landing page, select Chat playground to start experimenting with the GPT-3 model. Additionally, the article provides a Python code snippet that demonstrates how to use the Chat Completion API to interact with the GPT-3 model.\u001b[0m\n",
      "Thought:\u001b[32;1m\u001b[1;3m{\n",
      "    \"action\": \"Final Answer\",\n",
      "    \"action_input\": \"To use the GPT-3 model of Azure OpenAI, you need to have an Azure subscription and access to Azure OpenAI in that subscription. You can apply for access to Azure OpenAI by completing the form at https://aka.ms/oai/access. Once you have access, you can navigate to Azure OpenAI Studio at https://oai.azure.com/ and sign in with credentials that have access to your OpenAI resource. From the Azure OpenAI Studio landing page, select Chat playground to start experimenting with the GPT-3 model. Additionally, you can use the Chat Completion API to interact with the GPT-3 model using Python code.\" \n",
      "}\u001b[0m\n",
      "\n",
      "\u001b[1m> Finished chain.\u001b[0m\n",
      "> How can I use GPT-3 model of Azure OpenAI\n",
      "To use the GPT-3 model of Azure OpenAI, you need to have an Azure subscription and access to Azure OpenAI in that subscription. You can apply for access to Azure OpenAI by completing the form at https://aka.ms/oai/access. Once you have access, you can navigate to Azure OpenAI Studio at https://oai.azure.com/ and sign in with credentials that have access to your OpenAI resource. From the Azure OpenAI Studio landing page, select Chat playground to start experimenting with the GPT-3 model. Additionally, you can use the Chat Completion API to interact with the GPT-3 model using Python code.\n"
     ]
    }
   ],
   "source": [
    "getResponse(\"How can I use GPT-3 model of Azure OpenAI\")"
   ]
  },
  {
   "cell_type": "code",
   "execution_count": null,
   "id": "67f6e73a-550d-40a8-9695-80b042b0f1e0",
   "metadata": {},
   "outputs": [],
   "source": []
  }
 ],
 "metadata": {
  "kernelspec": {
   "display_name": "Python 3 (ipykernel)",
   "language": "python",
   "name": "python3"
  },
  "language_info": {
   "codemirror_mode": {
    "name": "ipython",
    "version": 3
   },
   "file_extension": ".py",
   "mimetype": "text/x-python",
   "name": "python",
   "nbconvert_exporter": "python",
   "pygments_lexer": "ipython3",
   "version": "3.11.4"
  }
 },
 "nbformat": 4,
 "nbformat_minor": 5
}
